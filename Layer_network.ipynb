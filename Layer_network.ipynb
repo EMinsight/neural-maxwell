{
 "cells": [
  {
   "cell_type": "code",
   "execution_count": 3,
   "metadata": {},
   "outputs": [],
   "source": [
    "import torch \n",
    "import torch.nn as nn\n",
    "import torch.nn.functional as F\n",
    "from torch.utils.data import DataLoader, Dataset, random_split\n",
    "from pdb import set_trace as breakpoint\n",
    "from time import time\n",
    "\n",
    "import numpy as np\n",
    "import matplotlib.pyplot as plt\n",
    "\n",
    "from datasets.generators1d import * \n",
    "from datasets.settings import OMEGA, MU0, EPSILON0, SCALE, C, L0, PIXEL_SIZE\n",
    "from models.utils import pbar, tensor_diff, tensor_roll"
   ]
  },
  {
   "cell_type": "code",
   "execution_count": 4,
   "metadata": {},
   "outputs": [],
   "source": [
    "device = torch.device('cuda:0')"
   ]
  },
  {
   "cell_type": "code",
   "execution_count": null,
   "metadata": {},
   "outputs": [],
   "source": [
    "class MaxwellDense(nn.Module):\n",
    "    \n",
    "    def __init__(self, size=64, src_x=32, supervised=False, drop_p=0.1):\n",
    "        super().__init__()\n",
    "        \n",
    "        self.size = size\n",
    "        self.src_x = src_x\n",
    "        self.supervised = supervised\n",
    "        self.drop_p = drop_p\n",
    "\n",
    "        self.layer_dims = [self.size, 128, 256, 256, 256, 128, self.size]\n",
    "\n",
    "        layers_amp = []\n",
    "        layers_phi = []\n",
    "        for i in range(len(self.layer_dims) - 1):\n",
    "            layers_amp.append(nn.Linear(self.layer_dims[i], self.layer_dims[i+1]))\n",
    "            layers_phi.append(nn.Linear(self.layer_dims[i], self.layer_dims[i+1]))\n",
    "            \n",
    "        self.layers_amp = nn.ModuleList(layers_amp)\n",
    "        self.layers_phi = nn.ModuleList(layers_phi)\n",
    "        \n",
    "    def forward_amplitude_phase(self, x):\n",
    "        A = x\n",
    "        imax = len(self.layers_amp) - 1\n",
    "        for i, layer in enumerate(self.layers_amp):\n",
    "            A = layer(A)\n",
    "            if i < imax:\n",
    "                A = nn.ReLU()(A)\n",
    "                A = nn.Dropout(p=self.drop_p)(A)\n",
    "            else:\n",
    "                A = nn.ELU()(A) + 1 + 0.1\n",
    "                \n",
    "        phi = x\n",
    "        imax = len(self.layers_phi) - 1\n",
    "        for i, layer in enumerate(self.layers_phi):\n",
    "            phi = layer(phi)\n",
    "            if i < imax:\n",
    "                phi = nn.ReLU()(phi)\n",
    "                phi = nn.Dropout(p=0.05)(phi)\n",
    "            else:\n",
    "                phi = 2 * np.pi * nn.Tanh()(phi)\n",
    "        \n",
    "        return A, phi\n",
    "    \n",
    "    def get_fields(self, layer_eps, layer_sizes, add_zero_bc=False):\n",
    "        # Get amplitude and phase vectors\n",
    "        layer_A, layer_phi = self.forward_amplitude_phase(epsilons)\n",
    "\n",
    "        # Combine to form waveform\n",
    "        x = (PIXEL_SIZE * (torch.arange(self.size, dtype=torch.float, device=device) - self.src_x))\n",
    "        \n",
    "        fields = torch.zeros_like(x)\n",
    "        layer_start = 0\n",
    "        for i in range(len(layer_eps)):\n",
    "            A = layer_A[:,i]\n",
    "            phi = layer_phi[:,i]\n",
    "            fields[layer_start]\n",
    "        \n",
    "        A * torch.cos(OMEGA / C * torch.sqrt(epsilons) * x + phi)\n",
    "        \n",
    "        if add_zero_bc:\n",
    "            batch_size, _ = epsilons.shape\n",
    "            zero = torch.zeros((batch_size, 1), device=device)\n",
    "            fields = torch.cat([zero, fields, zero], dim=-1)\n",
    "            \n",
    "        return fields\n",
    "    \n",
    "    def forward(self, layer_eps, layer_sizes):    \n",
    "        \n",
    "        # Compute Ez fields\n",
    "        A, phi = self.forward_amplitude_phase(layer_eps, layer_sizes)\n",
    "        fields = self.get_fields(layer_eps, layer_sizes)\n",
    "        \n",
    "        batch_size, _ = epsilons.shape\n",
    "\n",
    "        # Add zero field amplitudes at edge points for resonator BC's\n",
    "        zero = torch.zeros((batch_size, 1), device=device)\n",
    "        E = torch.cat([zero, fields, zero], dim=-1)\n",
    "\n",
    "        # Add first layer of cavity BC's\n",
    "        barrier = torch.full((batch_size, 1), -1e10, device=device)\n",
    "        eps = torch.cat([barrier, epsilons, barrier], dim=-1)\n",
    "\n",
    "        # Compute Maxwell operator on fields\n",
    "        diffs = tensor_diff(E, n=2, padding=None)\n",
    "        curl_curl_E = (SCALE / PIXEL_SIZE**2) * torch.cat([zero, diffs, zero], dim=-1)\n",
    "        epsilon_E = (SCALE * -OMEGA**2 * MU0 * EPSILON0) * eps * E\n",
    "\n",
    "        # Compute free-current vector\n",
    "        J = torch.zeros_like(E)\n",
    "        J[:,self.src_x + 1] = 1.526814027933079\n",
    "\n",
    "        out = curl_curl_E - epsilon_E - J\n",
    "\n",
    "        # Penalize excessive variation in A/phi\n",
    "        if self.regularize_A_phi:\n",
    "            A_variation = torch.sum(torch.abs(tensor_diff(A)), -1, keepdim=True)\n",
    "            phi_variation = torch.sum(torch.abs(tensor_diff(phi)), -1, keepdim=True)\n",
    "            eps_variation = torch.sum(torch.abs(tensor_diff(epsilons)), -1, keepdim=True)\n",
    "            factor = 1e-1 / (1 + eps_variation)\n",
    "            out = torch.cat([out, factor*A_variation, factor*phi_variation], dim=-1)\n",
    "\n",
    "        REMOVE_ENDS = True\n",
    "        if REMOVE_ENDS:\n",
    "            out = out[:, 1:-1]\n",
    "\n",
    "        return out"
   ]
  },
  {
   "cell_type": "code",
   "execution_count": 5,
   "metadata": {},
   "outputs": [],
   "source": [
    "a = torch.tensor([1,2,3])"
   ]
  },
  {
   "cell_type": "code",
   "execution_count": 7,
   "metadata": {},
   "outputs": [
    {
     "name": "stdout",
     "output_type": "stream",
     "text": [
      "tensor(1)\n",
      "tensor(2)\n",
      "tensor(3)\n"
     ]
    }
   ],
   "source": [
    "for i in a:\n",
    "    print(i)"
   ]
  },
  {
   "cell_type": "code",
   "execution_count": 8,
   "metadata": {},
   "outputs": [
    {
     "data": {
      "text/plain": [
       "tensor(1)"
      ]
     },
     "execution_count": 8,
     "metadata": {},
     "output_type": "execute_result"
    }
   ],
   "source": [
    "a[0]"
   ]
  },
  {
   "cell_type": "code",
   "execution_count": null,
   "metadata": {},
   "outputs": [],
   "source": []
  }
 ],
 "metadata": {
  "kernelspec": {
   "display_name": "Python 3",
   "language": "python",
   "name": "python3"
  },
  "language_info": {
   "codemirror_mode": {
    "name": "ipython",
    "version": 3
   },
   "file_extension": ".py",
   "mimetype": "text/x-python",
   "name": "python",
   "nbconvert_exporter": "python",
   "pygments_lexer": "ipython3",
   "version": "3.7.0"
  }
 },
 "nbformat": 4,
 "nbformat_minor": 2
}
