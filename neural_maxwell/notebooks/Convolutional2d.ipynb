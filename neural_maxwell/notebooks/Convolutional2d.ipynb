{
 "cells": [
  {
   "cell_type": "code",
   "execution_count": 1,
   "metadata": {},
   "outputs": [],
   "source": [
    "import sys; sys.path.append(\"../..\") # use local neural_maxwell package\n",
    "\n",
    "import torch \n",
    "import torch.nn as nn\n",
    "import torch.nn.functional as F\n",
    "from torch.utils.data import DataLoader, Dataset, random_split\n",
    "from pdb import set_trace as breakpoint\n",
    "from time import time\n",
    "\n",
    "import numpy as np\n",
    "import matplotlib.pyplot as plt\n",
    "\n",
    "from neural_maxwell.datasets.generators import Cavity2D\n",
    "from neural_maxwell.constants import *\n",
    "from neural_maxwell.utils import pbar, tensor_diff, tensor_roll"
   ]
  },
  {
   "cell_type": "code",
   "execution_count": 2,
   "metadata": {},
   "outputs": [],
   "source": [
    "device = torch.device('cuda:0')"
   ]
  },
  {
   "cell_type": "code",
   "execution_count": 7,
   "metadata": {},
   "outputs": [],
   "source": [
    "class MaxwellConv2D(nn.Module):\n",
    "    \n",
    "    def __init__(self, size=32, src_x=16, batch_size=50, supervised=False):\n",
    "        super().__init__()\n",
    "        \n",
    "        self.size = size\n",
    "        self.src_x = src_x\n",
    "        self.supervised = supervised\n",
    "        self.cavity_buffer=4\n",
    "        self.total_size = self.size + 2 * self.cavity_buffer\n",
    "\n",
    "#         \n",
    "#         self.convnet0 = self.make_convolutional_mininet(1, [128, 256, 128, 1], [3, 3, 3, 3]) # 16 in, 8 out\n",
    "#         self.convnet1 = self.make_convolutional_mininet(2, [128, 256, 128, 1], [5, 5, 5, 5]) # 32 in, 16 out\n",
    "#         self.convnet2 = self.make_convolutional_mininet(2, [256, 512, 256, 1], [9, 9, 9, 9]) # 64 in, 32 out\n",
    "        \n",
    "        self.convnet = nn.Sequential(\n",
    "            nn.Conv2d(1, 16, kernel_size=3, stride=1, padding=0),\n",
    "            nn.ReLU(),\n",
    "            nn.Conv2d(16, 32, kernel_size=5, stride=1, padding=0),\n",
    "            nn.ReLU(),\n",
    "            nn.Conv2d(32, 32, kernel_size=7, stride=1, padding=0),\n",
    "            nn.ReLU()\n",
    "        )\n",
    "        out_size = size-2-4-6\n",
    "        \n",
    "        self.densenet = nn.Sequential(\n",
    "            nn.Linear(out_size**2 * 32, out_size**2 * 32),\n",
    "            nn.ReLU(),\n",
    "            nn.Linear(out_size**2 * 32, out_size**2 * 32),\n",
    "            nn.ReLU(),\n",
    "        )\n",
    "\n",
    "        self.invconvnet = nn.Sequential(\n",
    "            nn.ConvTranspose2d(32, 32, kernel_size=7, stride=1, padding=0),\n",
    "            nn.ReLU(),\n",
    "            nn.ConvTranspose2d(32, 16, kernel_size=5, stride=1, padding=0),\n",
    "            nn.ReLU(),\n",
    "            nn.ConvTranspose2d(16, 1, kernel_size=3, stride=1, padding=0),\n",
    "        )\n",
    "    \n",
    "        # store angler operators\n",
    "        curl_op, eps_op = Cavity2D(device_length=self.size, cavity_buffer=self.cavity_buffer).get_operators()\n",
    "        self.curl_curl_op = torch.tensor([np.asarray(np.real(curl_op))]*batch_size, device=device).float()  \n",
    "    \n",
    "#         self.layer_dims = [, self.size]\n",
    "\n",
    "#         layers_amp = []\n",
    "#         layers_phi = []\n",
    "#         for i in range(len(self.layer_dims) - 1):\n",
    "#             layers_amp.append(nn.Linear(self.layer_dims[i], self.layer_dims[i+1]))\n",
    "#             layers_phi.append(nn.Linear(self.layer_dims[i], self.layer_dims[i+1], bias=False))\n",
    "#         self.layers_amp = nn.ModuleList(layers_amp)\n",
    "#         self.layers_phi = nn.ModuleList(layers_phi)\n",
    "        \n",
    "    @staticmethod\n",
    "    def make_convolutional_mininet(num_input_channels, channels, kernel_sizes):\n",
    "        layers = []\n",
    "        in_channels = num_input_channels\n",
    "        for out_channels, kernel_size in zip(channels, kernel_sizes):\n",
    "            layers.append(nn.Conv1d(in_channels, out_channels, kernel_size=kernel_size, stride=1, padding=0))\n",
    "            layers.append(nn.ReLU())\n",
    "            in_channels = out_channels\n",
    "        return nn.Sequential(*layers)\n",
    "    \n",
    "    def get_fields(self, epsilons):\n",
    "        batch_size, W, H = epsilons.shape\n",
    "        out = epsilons.view(batch_size, 1, W, H)\n",
    "        \n",
    "        out = self.convnet(out)\n",
    "        _, c, w2, h2 = out.shape\n",
    "        \n",
    "        out = out.view(batch_size, -1)\n",
    "        out = self.densenet(out)\n",
    "        \n",
    "        out = out.view(batch_size, c, w2, h2)\n",
    "        out = self.invconvnet(out)\n",
    "        \n",
    "        out = out.view(batch_size, W, H)\n",
    "        \n",
    "        return out\n",
    "        \n",
    "#         in0 = F.interpolate(eps, scale_factor=1/4)\n",
    "#         in1 = F.interpolate(eps, scale_factor=1/2)\n",
    "#         in2 = eps\n",
    "        \n",
    "#         out0 = self.convnet0(in0)\n",
    "        \n",
    "#         in1 = torch.cat((in1, F.interpolate(out0, scale_factor=4)), 1)\n",
    "#         out1 = self.convnet1(in1)\n",
    "        \n",
    "#         in2 = torch.cat((in2, F.interpolate(out1, scale_factor=4)), 1)\n",
    "#         out2 = self.convnet2(in2)\n",
    "        \n",
    "#         out = out2.view(batch_size, 32)\n",
    "        \n",
    "#         return out\n",
    "        \n",
    "        \n",
    "#     def forward_amplitude_phase(self, epsilons):\n",
    "#         # Get convolutional output\n",
    "#         x = self.forward_convolutional(epsilons)\n",
    "        \n",
    "#         A = x\n",
    "#         for i, layer in enumerate(self.layers_amp):\n",
    "#             A = layer(A)\n",
    "#             if i < len(self.layers_amp) - 1:\n",
    "#                 A = nn.ReLU()(A)\n",
    "                \n",
    "#         phi = x\n",
    "#         for i, layer in enumerate(self.layers_phi):\n",
    "#             phi = layer(phi)\n",
    "#             if i < len(self.layers_amp) - 1:\n",
    "#                 phi = nn.ReLU()(phi)\n",
    "        \n",
    "#         return A, phi\n",
    "    \n",
    "#     def get_fields(self, epsilons):\n",
    "#         # Get amplitude and phase vectors\n",
    "#         A, phi = self.forward_amplitude_phase(epsilons)\n",
    "            \n",
    "#         # Combine to form waveform\n",
    "#         x = (PIXEL_SIZE * (torch.arange(self.size, dtype=torch.float, device=device) - self.src_x))\n",
    "#         fields = A * torch.cos(OMEGA / C * torch.sqrt(epsilons) * x + phi)\n",
    "        \n",
    "#         return fields\n",
    "    \n",
    "    def forward(self, epsilons):        \n",
    "        # Compute Ez fields\n",
    "        fields = self.get_fields(epsilons)\n",
    "        \n",
    "        if self.supervised:\n",
    "            labels = torch.empty_like(fields)\n",
    "            for i, perm in enumerate(epsilons.detach().numpy()):\n",
    "                _, _, _, _, Ez = Cavity2D(cavity_buffer=16).solve(perm, omega=OMEGA_1550)\n",
    "                labels[i, :] = torch.tensor(np.imag(Ez[16:-16])).float()\n",
    "            return fields - labels\n",
    "        \n",
    "        else:\n",
    "            batch_size, _, _ = epsilons.shape\n",
    "\n",
    "            # Add zero field amplitudes at edge points for resonator BC's\n",
    "            E = F.pad(fields, [self.cavity_buffer]*4)\n",
    "            E = E.view(batch_size, -1, 1)\n",
    "\n",
    "            # Add first layer of cavity BC's\n",
    "            eps = F.pad(epsilons, [self.cavity_buffer]*4, \"constant\", -1e20)\n",
    "            eps = eps.view(batch_size, -1, 1)\n",
    "\n",
    "            # Compute Maxwell operator on fields\n",
    "            curl_curl_E = (SCALE / L0**2) * torch.bmm(self.curl_curl_op, E).view(batch_size, -1, 1)\n",
    "            epsilon_E = (SCALE * -OMEGA**2 * MU0 * EPSILON0) * eps * E\n",
    "\n",
    "            # Compute free-current vector\n",
    "            J = torch.zeros(batch_size, self.total_size, self.total_size, device=device)\n",
    "            J[:, self.src_x + self.cavity_buffer, self.src_x + self.cavity_buffer] = -1.526814027933079 \n",
    "            J = J.view(batch_size, -1, 1)\n",
    "\n",
    "            out = curl_curl_E - epsilon_E - J\n",
    "            out = out.view(batch_size, self.total_size, self.total_size)\n",
    "            out = out[:, self.cavity_buffer:-self.cavity_buffer, self.cavity_buffer:-self.cavity_buffer]\n",
    "\n",
    "            return out        "
   ]
  },
  {
   "cell_type": "code",
   "execution_count": 8,
   "metadata": {},
   "outputs": [],
   "source": [
    "class Perm2dDataset(Dataset):\n",
    "    \n",
    "    def __init__(self, epsilon_generator, kernel_sizes = [], N=10000, size=32, infinite_mode=False):\n",
    "        self.size = size\n",
    "        self.epsilon_generator = epsilon_generator\n",
    "        self.epsilon_samples = []\n",
    "        self.N = N\n",
    "        self.infinite_mode = infinite_mode\n",
    "        \n",
    "    def __len__(self):\n",
    "        return int(self.N)\n",
    "\n",
    "    def __getitem__(self, i):\n",
    "        if i >= len(self.epsilon_samples) or self.infinite_mode:\n",
    "            epsilons = torch.tensor(self.epsilon_generator())\n",
    "            if not self.infinite_mode:\n",
    "                self.epsilon_samples.append(epsilons)\n",
    "            return epsilons\n",
    "        else:\n",
    "            epsilons = self.epsilon_samples[i]\n",
    "            return epsilons"
   ]
  },
  {
   "cell_type": "code",
   "execution_count": 9,
   "metadata": {},
   "outputs": [],
   "source": [
    "def perm_rectangle(s=32):\n",
    "    p_matrix = np.ones((s, s))\n",
    "    x0, y0 = np.random.randint(10, s - 10, 2)\n",
    "    dx, dy = np.random.randint(5, 10, 2)\n",
    "    p_matrix[x0:x0 + dx, y0:y0 + dy] = eps_sio2\n",
    "    return p_matrix\n",
    "\n",
    "\n",
    "def perm_ellipse(s=32):\n",
    "    p_matrix = np.ones((s, s))\n",
    "    x0, y0 = np.random.randint(10, s - 10, 2)\n",
    "    rx, ry = np.random.randint(5, 10, 2)\n",
    "\n",
    "    x, y = np.meshgrid(np.arange(s), np.arange(s))\n",
    "    ellipse = ((x - x0) / rx) ** 2 + ((y - y0) / ry) ** 2 <= 1\n",
    "    p_matrix[ellipse < 1.0] = eps_sio2\n",
    "    return p_matrix"
   ]
  },
  {
   "cell_type": "code",
   "execution_count": 10,
   "metadata": {},
   "outputs": [
    {
     "data": {
      "application/vnd.jupyter.widget-view+json": {
       "model_id": "96d69175eaa449da928921712bae17b0",
       "version_major": 2,
       "version_minor": 0
      },
      "text/plain": [
       "HBox(children=(IntProgress(value=0, max=300), HTML(value='')))"
      ]
     },
     "metadata": {},
     "output_type": "display_data"
    },
    {
     "data": {
      "application/vnd.jupyter.widget-view+json": {
       "model_id": "64640285969f4a4ab9eb064124f0b0dd",
       "version_major": 2,
       "version_minor": 0
      },
      "text/plain": [
       "HBox(children=(IntProgress(value=0, max=2000), HTML(value='')))"
      ]
     },
     "metadata": {},
     "output_type": "display_data"
    },
    {
     "data": {
      "application/vnd.jupyter.widget-view+json": {
       "model_id": "4fb27c4dd60b456097bc2dba228b124a",
       "version_major": 2,
       "version_minor": 0
      },
      "text/plain": [
       "HBox(children=(IntProgress(value=0, max=2000), HTML(value='')))"
      ]
     },
     "metadata": {},
     "output_type": "display_data"
    },
    {
     "ename": "KeyboardInterrupt",
     "evalue": "",
     "output_type": "error",
     "traceback": [
      "\u001b[0;31m---------------------------------------------------------------------------\u001b[0m",
      "\u001b[0;31mKeyboardInterrupt\u001b[0m                         Traceback (most recent call last)",
      "\u001b[0;32m<ipython-input-10-c35710fbe815>\u001b[0m in \u001b[0;36m<module>\u001b[0;34m\u001b[0m\n\u001b[1;32m     53\u001b[0m \u001b[0;34m\u001b[0m\u001b[0m\n\u001b[1;32m     54\u001b[0m         \u001b[0;32mif\u001b[0m \u001b[0mSHOW_ITERATION_PROGRESS\u001b[0m\u001b[0;34m:\u001b[0m\u001b[0;34m\u001b[0m\u001b[0m\n\u001b[0;32m---> 55\u001b[0;31m             \u001b[0mtrain_loader\u001b[0m\u001b[0;34m.\u001b[0m\u001b[0mset_description\u001b[0m\u001b[0;34m(\u001b[0m\u001b[0;34m\"ℒ = {:.1e}\"\u001b[0m\u001b[0;34m.\u001b[0m\u001b[0mformat\u001b[0m\u001b[0;34m(\u001b[0m\u001b[0mloss\u001b[0m\u001b[0;34m.\u001b[0m\u001b[0mitem\u001b[0m\u001b[0;34m(\u001b[0m\u001b[0;34m)\u001b[0m\u001b[0;34m)\u001b[0m\u001b[0;34m,\u001b[0m \u001b[0mrefresh\u001b[0m\u001b[0;34m=\u001b[0m\u001b[0;32mFalse\u001b[0m\u001b[0;34m)\u001b[0m\u001b[0;34m\u001b[0m\u001b[0m\n\u001b[0m\u001b[1;32m     56\u001b[0m     \u001b[0mepoch_iterator\u001b[0m\u001b[0;34m.\u001b[0m\u001b[0mset_description\u001b[0m\u001b[0;34m(\u001b[0m\u001b[0;34m\"ℒ = {:.1e}\"\u001b[0m\u001b[0;34m.\u001b[0m\u001b[0mformat\u001b[0m\u001b[0;34m(\u001b[0m\u001b[0mloss\u001b[0m\u001b[0;34m.\u001b[0m\u001b[0mitem\u001b[0m\u001b[0;34m(\u001b[0m\u001b[0;34m)\u001b[0m\u001b[0;34m)\u001b[0m\u001b[0;34m,\u001b[0m \u001b[0mrefresh\u001b[0m\u001b[0;34m=\u001b[0m\u001b[0;32mFalse\u001b[0m\u001b[0;34m)\u001b[0m\u001b[0;34m\u001b[0m\u001b[0m\n\u001b[1;32m     57\u001b[0m \u001b[0;34m\u001b[0m\u001b[0m\n",
      "\u001b[0;31mKeyboardInterrupt\u001b[0m: "
     ]
    }
   ],
   "source": [
    "# Hyperparameters\n",
    "num_epochs = 300\n",
    "learning_rate = 1e-5\n",
    "# batch_size = 512\n",
    "batch_size = 50\n",
    "\n",
    "\n",
    "# Device configuration\n",
    "device = torch.device('cuda:0')\n",
    "# device = torch.device('cpu')\n",
    "\n",
    "# Create a model   \n",
    "model = MaxwellConv2D().to(device)\n",
    "\n",
    "# writer = SummaryWriter()\n",
    "\n",
    "# Create data loaders\n",
    "train_data = Perm2dDataset(perm_rectangle, N=1e5, infinite_mode=False)\n",
    "train_loader = DataLoader(dataset=train_data, batch_size=batch_size, shuffle=True)\n",
    "\n",
    "test_data = Perm2dDataset(perm_rectangle, N=1e3, infinite_mode=False)\n",
    "test_loader = DataLoader(dataset=test_data, batch_size=1, shuffle=False)\n",
    "\n",
    "# Loss and optimizer\n",
    "criterion = nn.MSELoss().to(device)\n",
    "optimizer = torch.optim.Adam(model.parameters(), lr=learning_rate)#, weight_decay=0.001)\n",
    "# losses = []\n",
    "\n",
    "# Train the model\n",
    "model.train()\n",
    "total_step = len(train_loader)\n",
    "epoch_iterator = pbar(range(num_epochs))\n",
    "params = []\n",
    "\n",
    "for epoch in epoch_iterator:\n",
    "    \n",
    "    SHOW_ITERATION_PROGRESS = True\n",
    "    if SHOW_ITERATION_PROGRESS:\n",
    "        train_loader = pbar(train_loader)\n",
    "        \n",
    "    for epsilons in train_loader:\n",
    "        \n",
    "        epsilons = epsilons.float().to(device)\n",
    "        \n",
    "        # Forward pass\n",
    "        outputs = model(epsilons)\n",
    "        loss = criterion(outputs, torch.zeros_like(outputs))\n",
    "        \n",
    "        # Backward and optimize\n",
    "        optimizer.zero_grad()\n",
    "        loss.backward()        \n",
    "        optimizer.step()\n",
    "        \n",
    "        if SHOW_ITERATION_PROGRESS:\n",
    "            train_loader.set_description(\"ℒ = {:.1e}\".format(loss.item()), refresh=False)\n",
    "    epoch_iterator.set_description(\"ℒ = {:.1e}\".format(loss.item()), refresh=False)\n",
    "\n",
    "# Save the model checkpoint\n",
    "torch.save(model.state_dict(), 'model_2d_conv.ckpt')"
   ]
  },
  {
   "cell_type": "code",
   "execution_count": 11,
   "metadata": {},
   "outputs": [],
   "source": [
    "epsilons = perm_rectangle()\n",
    "model.eval()\n",
    "fields = model.get_fields(torch.tensor([epsilons]).to(device).float())[0].cpu().detach().numpy()"
   ]
  },
  {
   "cell_type": "code",
   "execution_count": 12,
   "metadata": {},
   "outputs": [
    {
     "data": {
      "text/plain": [
       "<matplotlib.image.AxesImage at 0x7fc1c1f9a208>"
      ]
     },
     "execution_count": 12,
     "metadata": {},
     "output_type": "execute_result"
    },
    {
     "data": {
      "image/png": "[encoded data removed]",
      "text/plain": [
       "<Figure size 432x288 with 1 Axes>"
      ]
     },
     "metadata": {
      "needs_background": "light"
     },
     "output_type": "display_data"
    }
   ],
   "source": [
    "plt.imshow(fields)"
   ]
  },
  {
   "cell_type": "code",
   "execution_count": 13,
   "metadata": {},
   "outputs": [
    {
     "data": {
      "text/plain": [
       "<matplotlib.image.AxesImage at 0x7fc1c388d550>"
      ]
     },
     "execution_count": 13,
     "metadata": {},
     "output_type": "execute_result"
    },
    {
     "data": {
      "image/png": "[encoded data removed]",
      "text/plain": [
       "<Figure size 432x288 with 1 Axes>"
      ]
     },
     "metadata": {
      "needs_background": "light"
     },
     "output_type": "display_data"
    }
   ],
   "source": [
    "perms, _, _, _, _, Ez = Cavity2D(device_length=len(epsilons), cavity_buffer=4).solve(epsilons, omega=OMEGA_1550)\n",
    "Ez = np.real(Ez)[4:-4, 4:-4]\n",
    "plt.imshow(Ez)"
   ]
  },
  {
   "cell_type": "code",
   "execution_count": 54,
   "metadata": {},
   "outputs": [
    {
     "data": {
      "text/plain": [
       "<matplotlib.image.AxesImage at 0x7ffa90315fd0>"
      ]
     },
     "execution_count": 54,
     "metadata": {},
     "output_type": "execute_result"
    },
    {
     "data": {
      "image/png": "[encoded data removed]",
      "text/plain": [
       "<Figure size 432x288 with 1 Axes>"
      ]
     },
     "metadata": {
      "needs_background": "light"
     },
     "output_type": "display_data"
    }
   ],
   "source": [
    "plt.imshow(perms)"
   ]
  },
  {
   "cell_type": "code",
   "execution_count": null,
   "metadata": {},
   "outputs": [],
   "source": []
  }
 ],
 "metadata": {
  "kernelspec": {
   "display_name": "Python 3",
   "language": "python",
   "name": "python3"
  },
  "language_info": {
   "codemirror_mode": {
    "name": "ipython",
    "version": 3
   },
   "file_extension": ".py",
   "mimetype": "text/x-python",
   "name": "python",
   "nbconvert_exporter": "python",
   "pygments_lexer": "ipython3",
   "version": "3.7.0"
  }
 },
 "nbformat": 4,
 "nbformat_minor": 2
}
