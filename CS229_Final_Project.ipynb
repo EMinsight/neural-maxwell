{
 "cells": [
  {
   "cell_type": "markdown",
   "metadata": {},
   "source": [
    "# Solving Maxwell's equations with convolutional neural networks"
   ]
  },
  {
   "cell_type": "code",
   "execution_count": 3,
   "metadata": {},
   "outputs": [],
   "source": [
    "import h5py\n",
    "\n",
    "import torch \n",
    "import torch.nn as nn\n",
    "from torch.utils.data import DataLoader, Dataset, random_split\n",
    "\n",
    "import numpy as np\n",
    "import tensorflow as tf\n",
    "import matplotlib.pyplot as plt\n",
    "from angler import Simulation\n",
    "\n",
    "from datasets.generators import *\n",
    "from models.utils import pbar\n",
    "\n",
    "# import keras\n",
    "# from keras.models import Model\n",
    "# from keras.layers import Input, Conv2D, MaxPooling2D, Dense, Dropout, Flatten, LSTM, ConvLSTM2D, Reshape, Permute"
   ]
  },
  {
   "cell_type": "code",
   "execution_count": 2,
   "metadata": {},
   "outputs": [],
   "source": [
    "permittivities, proximities, Hx, Hy, Ez = load_batch(\"datasets/test.hdf5\", \"rectangles\")"
   ]
  },
  {
   "cell_type": "code",
   "execution_count": 7,
   "metadata": {},
   "outputs": [],
   "source": [
    "# inputs = Input(shape=(64, 64, 1))#, 2))\n",
    "\n",
    "# x = Conv2D(16, kernel_size=(11, 11), strides=(1, 1), padding='valid', data_format='channels_last', activation='relu', kernel_regularizer=keras.regularizers.l2())(inputs)\n",
    "# x = Conv2D(32, kernel_size=(11, 11), strides=(1, 1), padding='valid', data_format='channels_last', activation='relu', kernel_regularizer=keras.regularizers.l2())(x)\n",
    "# x = Conv2D(64, kernel_size=(5, 5), strides=(1, 1), padding='valid', data_format='channels_last', activation='relu', kernel_regularizer=keras.regularizers.l2())(x)\n",
    "# x = Conv2D(64, kernel_size=(5, 5), strides=(1, 1), padding='valid', data_format='channels_last', activation='relu', kernel_regularizer=keras.regularizers.l2())(x)\n",
    "# x = Conv2D(64, kernel_size=(3, 3), strides=(1, 1), padding='valid', data_format='channels_last', activation='relu', kernel_regularizer=keras.regularizers.l2())(x)\n",
    "# x = Conv2D(128, kernel_size=(3, 3), strides=(1, 1), padding='valid', data_format='channels_last', activation='relu', kernel_regularizer=keras.regularizers.l2())(x)\n",
    "# x = Conv2D(64, kernel_size=(1, 1), strides=(1, 1), padding='valid', data_format='channels_last', activation='relu', kernel_regularizer=keras.regularizers.l2())(x)\n",
    "# x = Conv2D(1, kernel_size=(1, 1), strides=(1, 1), padding='valid', data_format='channels_last', activation='relu', kernel_regularizer=keras.regularizers.l2())(x)\n",
    "# outputs = Reshape((32, 32))(x)\n",
    "\n",
    "# model = Model(inputs=inputs, outputs=outputs)\n",
    "\n",
    "inputs = Input(shape=(64, 64, 2))\n",
    "\n",
    "x = Conv2D(16, kernel_size=11, data_format='channels_last', activation='relu', kernel_regularizer=keras.regularizers.l2())(inputs)\n",
    "x = Conv2D(32, kernel_size=11, data_format='channels_last', activation='relu', kernel_regularizer=keras.regularizers.l2())(x)\n",
    "x = Conv2D(64, kernel_size=5,  data_format='channels_last', activation='relu', kernel_regularizer=keras.regularizers.l2())(x)\n",
    "x = Conv2D(64, kernel_size=5,  data_format='channels_last', activation='relu', kernel_regularizer=keras.regularizers.l2())(x)\n",
    "x = Conv2D(64, kernel_size=3,  data_format='channels_last', activation='relu', kernel_regularizer=keras.regularizers.l2())(x)\n",
    "x = Conv2D(128,kernel_size=3,  data_format='channels_last', activation='relu', kernel_regularizer=keras.regularizers.l2())(x)\n",
    "x = Conv2D(64, kernel_size=1,  data_format='channels_last', activation='relu', kernel_regularizer=keras.regularizers.l2())(x)\n",
    "x = Conv2D(1,  kernel_size=1,  data_format='channels_last', activation='relu', kernel_regularizer=keras.regularizers.l2())(x)\n",
    "outputs = Reshape((32, 32))(x)\n",
    "\n",
    "model = Model(inputs=inputs, outputs=outputs)"
   ]
  },
  {
   "cell_type": "code",
   "execution_count": 8,
   "metadata": {},
   "outputs": [
    {
     "name": "stdout",
     "output_type": "stream",
     "text": [
      "_________________________________________________________________\n",
      "Layer (type)                 Output Shape              Param #   \n",
      "=================================================================\n",
      "input_1 (InputLayer)         (None, 64, 64, 2)         0         \n",
      "_________________________________________________________________\n",
      "conv2d_1 (Conv2D)            (None, 54, 54, 16)        3888      \n",
      "_________________________________________________________________\n",
      "conv2d_2 (Conv2D)            (None, 44, 44, 32)        61984     \n",
      "_________________________________________________________________\n",
      "conv2d_3 (Conv2D)            (None, 40, 40, 64)        51264     \n",
      "_________________________________________________________________\n",
      "conv2d_4 (Conv2D)            (None, 36, 36, 64)        102464    \n",
      "_________________________________________________________________\n",
      "conv2d_5 (Conv2D)            (None, 34, 34, 64)        36928     \n",
      "_________________________________________________________________\n",
      "conv2d_6 (Conv2D)            (None, 32, 32, 128)       73856     \n",
      "_________________________________________________________________\n",
      "conv2d_7 (Conv2D)            (None, 32, 32, 64)        8256      \n",
      "_________________________________________________________________\n",
      "conv2d_8 (Conv2D)            (None, 32, 32, 1)         65        \n",
      "_________________________________________________________________\n",
      "reshape_1 (Reshape)          (None, 32, 32)            0         \n",
      "=================================================================\n",
      "Total params: 338,705\n",
      "Trainable params: 338,705\n",
      "Non-trainable params: 0\n",
      "_________________________________________________________________\n"
     ]
    }
   ],
   "source": [
    "model.compile(loss=keras.losses.mean_squared_logarithmic_error,\n",
    "              optimizer=keras.optimizers.Adam(),\n",
    "              metrics=['acc'])\n",
    "model.summary()"
   ]
  },
  {
   "cell_type": "code",
   "execution_count": 9,
   "metadata": {},
   "outputs": [],
   "source": [
    "x_data = np.stack((permittivities, proximities), axis=-1)\n",
    "y_data = np.abs(Ez)[:,16:48, 16:48]\n",
    "y_data_shit = permittivities[:, 16:48, 16:48]"
   ]
  },
  {
   "cell_type": "code",
   "execution_count": 10,
   "metadata": {},
   "outputs": [
    {
     "data": {
      "text/plain": [
       "(2000, 64, 64, 2)"
      ]
     },
     "execution_count": 10,
     "metadata": {},
     "output_type": "execute_result"
    }
   ],
   "source": [
    "x_data.shape"
   ]
  },
  {
   "cell_type": "code",
   "execution_count": 79,
   "metadata": {},
   "outputs": [
    {
     "data": {
      "application/vnd.jupyter.widget-view+json": {
       "model_id": "3a72315d40354628b1060311b5c195c7",
       "version_major": 2,
       "version_minor": 0
      },
      "text/plain": [
       "HBox(children=(IntProgress(value=0, max=36), HTML(value='')))"
      ]
     },
     "metadata": {},
     "output_type": "display_data"
    }
   ],
   "source": [
    "# Device configuration\n",
    "device = torch.device('cpu')\n",
    "\n",
    "# Hyperparameters\n",
    "num_epochs = 1\n",
    "batch_size = 50\n",
    "learning_rate = 0.001\n",
    "\n",
    "class PermittivityDataset(Dataset):\n",
    "    \"\"\"Face Landmarks dataset.\"\"\"\n",
    "\n",
    "    def __init__(self, hdf5_file, batch_name):\n",
    "        \"\"\"\n",
    "        Args:\n",
    "            csv_file (string): Path to the csv file with annotations.\n",
    "            root_dir (string): Directory with all the images.\n",
    "            transform (callable, optional): Optional transform to be applied\n",
    "                on a sample.\n",
    "        \"\"\"\n",
    "        self.permittivities, self.proximities, self.Hx, self.Hy, self.Ez = load_batch(hdf5_file, batch_name)\n",
    "#         self.labels = np.abs(self.Ez[:, 16:48, 16:48])\n",
    "        self.labels = self.permittivities[:, 16:48, 16:48]\n",
    "\n",
    "    def __len__(self):\n",
    "        return len(self.permittivities)\n",
    "\n",
    "    def __getitem__(self, i):\n",
    "        return torch.tensor([self.permittivities[i], self.proximities[i]]).float(), torch.tensor(self.labels[i]).float()\n",
    "    \n",
    "\n",
    "permittivity_data = PermittivityDataset(\"datasets/test.hdf5\", \"rectangles\")\n",
    "train_size = int(0.9 * len(permittivity_data))\n",
    "test_size = len(permittivity_data) - train_size\n",
    "train_data, test_data = random_split(permittivity_data, [train_size, test_size])\n",
    "train_loader = DataLoader(dataset=train_data, batch_size=batch_size, shuffle=True)\n",
    "test_loader = DataLoader(dataset=test_data, batch_size=batch_size, shuffle=False)\n",
    "\n",
    "class ConvNet(nn.Module):\n",
    "    def __init__(self):\n",
    "        super(ConvNet, self).__init__()\n",
    "        \n",
    "        conv_channels = [16, 32, 64, 64, 64, 128, 64, 1]\n",
    "        kernel_sizes = [11, 11, 5, 5, 3, 3, 1, 1]\n",
    "        \n",
    "        layers = []\n",
    "        \n",
    "        in_channels=2 # number of input channels\n",
    "        for out_channels, kernel_size in zip(conv_channels, kernel_sizes):\n",
    "            layers.append(nn.Sequential(nn.Conv2d(in_channels, out_channels, kernel_size=kernel_size, stride=1, padding=0), nn.ReLU()))\n",
    "            in_channels = out_channels\n",
    "        \n",
    "        self.convolutions = nn.ModuleList(layers)\n",
    "        \n",
    "    def forward(self, x):\n",
    "        out = x\n",
    "        for layer in self.convolutions:\n",
    "            out = layer(out)\n",
    "        out = out.reshape((batch_size, 32, 32))\n",
    "        return out\n",
    "\n",
    "model = ConvNet().to(device)\n",
    "\n",
    "\n",
    "# Loss and optimizer\n",
    "# def SquaredLogLoss(yhat, y):\n",
    "#     return torch.square(torch.log(yhat) - torch.log(y))\n",
    "\n",
    "criterion = nn.L1Loss()\n",
    "optimizer = torch.optim.Adam(model.parameters(), lr=learning_rate) #, weight_decay=0.1)\n",
    "\n",
    "\n",
    "# Train the model\n",
    "total_step = len(train_loader)\n",
    "for epoch in range(num_epochs):\n",
    "    \n",
    "    for data, fields in pbar(train_loader):\n",
    "        data = data.to(device)\n",
    "        fields = fields.to(device)\n",
    "        \n",
    "        # Forward pass\n",
    "        outputs = model(data)\n",
    "        loss = criterion(outputs, fields)\n",
    "        \n",
    "        # Backward and optimize\n",
    "        optimizer.zero_grad()\n",
    "        loss.backward()\n",
    "        optimizer.step()\n",
    "\n",
    "# Save the model checkpoint\n",
    "torch.save(model.state_dict(), 'model.ckpt')"
   ]
  },
  {
   "cell_type": "code",
   "execution_count": 80,
   "metadata": {},
   "outputs": [],
   "source": [
    "model.eval()  # eval mode (batchnorm uses moving mean/variance instead of mini-batch mean/variance)\n",
    "data_list = []\n",
    "labels_list = []\n",
    "outputs_list = []\n",
    "\n",
    "with torch.no_grad():\n",
    "    for data, labels in test_loader:\n",
    "        data = data.to(device)\n",
    "        labels = labels.to(device)\n",
    "        outputs = model(data)\n",
    "        data_list.append(data)\n",
    "        labels_list.append(labels)\n",
    "        outputs_list.append(outputs)"
   ]
  },
  {
   "cell_type": "code",
   "execution_count": 81,
   "metadata": {},
   "outputs": [
    {
     "data": {
      "text/plain": [
       "<matplotlib.image.AxesImage at 0x270027eed68>"
      ]
     },
     "execution_count": 81,
     "metadata": {},
     "output_type": "execute_result"
    },
    {
     "data": {
      "image/png": "[encoded data removed]",
      "text/plain": [
       "<Figure size 432x288 with 3 Axes>"
      ]
     },
     "metadata": {
      "needs_background": "light"
     },
     "output_type": "display_data"
    }
   ],
   "source": [
    "n = np.random.randint(0,4)\n",
    "m = np.random.randint(0,batch_size)\n",
    "permittivity = data_list[n][m][0]\n",
    "label = labels_list[n][m]\n",
    "predicted = outputs_list[n][m]\n",
    "\n",
    "f, axarr = plt.subplots(1,3)\n",
    "axarr[0].imshow(permittivity)\n",
    "axarr[1].imshow(label)\n",
    "axarr[2].imshow(predicted)"
   ]
  },
  {
   "cell_type": "code",
   "execution_count": null,
   "metadata": {},
   "outputs": [],
   "source": [
    "class ConvMaxwellModel:\n",
    "    \n",
    "    def __init__(self, batch_size=128, learning_rate=1e-4):\n",
    "        self._batch_size = batch_size\n",
    "        self._learning_rate = learning_rate\n",
    "\n",
    "    def inference(self, images, keep_prob):\n",
    "        with tf.variable_scope('conv1') as scope:\n",
    "            kernel = self._create_weights([5, 5, 1, 32])\n",
    "            conv = self._create_conv2d(images, kernel)\n",
    "            bias = self._create_bias([32])\n",
    "            preactivation = tf.nn.bias_add(conv, bias)\n",
    "            conv1 = tf.nn.relu(preactivation, name=scope.name)\n",
    "            self._activation_summary(conv1)\n",
    "\n",
    "        # pool 1\n",
    "        h_pool1 = self._create_max_pool_2x2(conv1)\n",
    "\n",
    "        with tf.variable_scope('conv2') as scope:\n",
    "            kernel = self._create_weights([5, 5, 32, 64])\n",
    "            conv = self._create_conv2d(h_pool1, kernel)\n",
    "            bias = self._create_bias([64])\n",
    "            preactivation = tf.nn.bias_add(conv, bias)\n",
    "            conv2 = tf.nn.relu(preactivation, name=scope.name)\n",
    "            self._activation_summary(conv2)\n",
    "\n",
    "        # pool 2\n",
    "        h_pool2 = self._create_max_pool_2x2(conv2)\n",
    "\n",
    "        with tf.variable_scope('local1') as scope:\n",
    "            reshape = tf.reshape(h_pool2, [-1, 7 * 7 * 64])\n",
    "            W_fc1 = self._create_weights([7 * 7 * 64, 1024])\n",
    "            b_fc1 = self._create_bias([1024])\n",
    "            local1 = tf.nn.relu(tf.matmul(reshape, W_fc1) + b_fc1, name=scope.name)\n",
    "            self._activation_summary(local1)\n",
    "\n",
    "        with tf.variable_scope('local2_linear') as scope:\n",
    "            W_fc2 = self._create_weights([1024, self._num_labels])\n",
    "            b_fc2 = self._create_bias([self._num_labels])\n",
    "            local1_drop = tf.nn.dropout(local1, keep_prob)\n",
    "            local2 = tf.nn.bias_add(tf.matmul(local1_drop, W_fc2), b_fc2, name=scope.name)\n",
    "            self._activation_summary(local2)\n",
    "        return local2\n",
    "\n",
    "    def train(self, loss, global_step):\n",
    "        tf.summary.scalar('learning_rate', self._learning_rate)\n",
    "        train_op = tf.train.AdamOptimizer(self._learning_rate).minimize(loss, global_step=global_step)\n",
    "        return train_op\n",
    "\n",
    "    def loss(self, logits, labels):\n",
    "        with tf.variable_scope('loss') as scope:\n",
    "            cross_entropy = tf.nn.softmax_cross_entropy_with_logits(logits=logits, labels=labels)\n",
    "            cost = tf.reduce_mean(cross_entropy, name=scope.name)\n",
    "            tf.summary.scalar('cost', cost)\n",
    "\n",
    "        return cost\n",
    "\n",
    "    def accuracy(self, logits, labels):\n",
    "        with tf.variable_scope('accuracy') as scope:\n",
    "            accuracy = tf.reduce_mean(tf.cast(tf.equal(tf.argmax(logits, 1), tf.argmax(labels, 1)), dtype=tf.float32),\n",
    "                                      name=scope.name)\n",
    "            tf.summary.scalar('accuracy', accuracy)\n",
    "        return accuracy\n",
    "\n",
    "    def _create_conv2d(self, x, W):\n",
    "        return tf.nn.conv2d(input=x,\n",
    "                            filter=W,\n",
    "                            strides=[1, 1, 1, 1],\n",
    "                            padding='SAME')\n",
    "\n",
    "    def _create_max_pool_2x2(self, input):\n",
    "        return tf.nn.max_pool(value=input,\n",
    "                              ksize=[1, 2, 2, 1],\n",
    "                              strides=[1, 2, 2, 1],\n",
    "                              padding='SAME')\n",
    "\n",
    "    def _create_weights(self, shape):\n",
    "        return tf.Variable(tf.truncated_normal(shape=shape, stddev=0.1, dtype=tf.float32))\n",
    "\n",
    "    def _create_bias(self, shape):\n",
    "        return tf.Variable(tf.constant(1., shape=shape, dtype=tf.float32))\n",
    "\n",
    "    def _activation_summary(self, x):\n",
    "        tensor_name = x.op.name\n",
    "        tf.summary.histogram(tensor_name + '/activations', x)\n",
    "        tf.summary.scalar(tensor_name + '/sparsity', tf.nn.zero_fraction(x))"
   ]
  },
  {
   "cell_type": "code",
   "execution_count": 7,
   "metadata": {},
   "outputs": [
    {
     "name": "stdout",
     "output_type": "stream",
     "text": [
      "Train on 1800 samples, validate on 200 samples\n",
      "Epoch 1/1\n",
      "1800/1800 [==============================] - 68s 38ms/step - loss: 3.7236 - acc: 0.6875 - val_loss: 2.5602 - val_acc: 0.7080\n"
     ]
    }
   ],
   "source": [
    "history = model.fit(x_data, y_data_shit,\n",
    "                    epochs=1,\n",
    "                    verbose=1,\n",
    "                    validation_split = 0.1,\n",
    "                    callbacks=[keras.callbacks.TensorBoard(log_dir='./logs', histogram_freq=1, batch_size=32, write_graph=True, write_grads=True, write_images=True, embeddings_freq=0, embeddings_layer_names=None, embeddings_metadata=None, embeddings_data=None, update_freq=32)])"
   ]
  },
  {
   "cell_type": "code",
   "execution_count": 57,
   "metadata": {},
   "outputs": [
    {
     "data": {
      "image/png": "[encoded data removed]",
      "text/plain": [
       "<Figure size 432x288 with 1 Axes>"
      ]
     },
     "metadata": {},
     "output_type": "display_data"
    },
    {
     "data": {
      "image/png": "[encoded data removed]",
      "text/plain": [
       "<Figure size 432x288 with 1 Axes>"
      ]
     },
     "metadata": {},
     "output_type": "display_data"
    }
   ],
   "source": [
    "# Plot training & validation accuracy values\n",
    "plt.plot(history.history['acc'])\n",
    "plt.plot(history.history['val_acc'])\n",
    "plt.title('Model accuracy')\n",
    "plt.ylabel('Accuracy')\n",
    "plt.xlabel('Epoch')\n",
    "plt.legend(['Train', 'Test'], loc='upper left')\n",
    "plt.show()\n",
    "\n",
    "# Plot training & validation loss values\n",
    "plt.plot(history.history['loss'])\n",
    "plt.plot(history.history['val_loss'])\n",
    "plt.title('Model loss')\n",
    "plt.ylabel('Loss')\n",
    "plt.xlabel('Epoch')\n",
    "plt.legend(['Train', 'Test'], loc='upper left')\n",
    "plt.show()"
   ]
  },
  {
   "cell_type": "code",
   "execution_count": 58,
   "metadata": {},
   "outputs": [],
   "source": [
    "N = np.random.randint(0,2000)\n",
    "x_pred = x_data[N:N+1]\n",
    "y_real = y_data[N:N+1]\n",
    "\n",
    "y_pred = model.predict(x_pred)"
   ]
  },
  {
   "cell_type": "code",
   "execution_count": 59,
   "metadata": {},
   "outputs": [
    {
     "data": {
      "image/png": "[encoded data removed]",
      "text/plain": [
       "<Figure size 432x288 with 2 Axes>"
      ]
     },
     "metadata": {},
     "output_type": "display_data"
    }
   ],
   "source": [
    "plt.imshow(y_pred[0])\n",
    "plt.colorbar()\n",
    "plt.show()"
   ]
  },
  {
   "cell_type": "code",
   "execution_count": 60,
   "metadata": {},
   "outputs": [
    {
     "data": {
      "image/png": "[encoded data removed]",
      "text/plain": [
       "<Figure size 432x288 with 2 Axes>"
      ]
     },
     "metadata": {},
     "output_type": "display_data"
    }
   ],
   "source": [
    "plt.imshow(y_real[0])\n",
    "plt.colorbar()\n",
    "plt.show()"
   ]
  },
  {
   "cell_type": "code",
   "execution_count": 61,
   "metadata": {},
   "outputs": [
    {
     "data": {
      "image/png": "[encoded data removed]",
      "text/plain": [
       "<Figure size 432x288 with 2 Axes>"
      ]
     },
     "metadata": {},
     "output_type": "display_data"
    }
   ],
   "source": [
    "plt.imshow(x_pred[0,:,:,0])\n",
    "plt.colorbar()\n",
    "plt.show()"
   ]
  },
  {
   "cell_type": "code",
   "execution_count": null,
   "metadata": {},
   "outputs": [],
   "source": []
  }
 ],
 "metadata": {
  "kernelspec": {
   "display_name": "Python 3",
   "language": "python",
   "name": "python3"
  },
  "language_info": {
   "codemirror_mode": {
    "name": "ipython",
    "version": 3
   },
   "file_extension": ".py",
   "mimetype": "text/x-python",
   "name": "python",
   "nbconvert_exporter": "python",
   "pygments_lexer": "ipython3",
   "version": "3.6.6"
  }
 },
 "nbformat": 4,
 "nbformat_minor": 2
}
