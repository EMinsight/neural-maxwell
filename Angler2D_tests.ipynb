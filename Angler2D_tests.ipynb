{
 "cells": [
  {
   "cell_type": "code",
   "execution_count": 1,
   "metadata": {},
   "outputs": [],
   "source": [
    "import numpy as np\n",
    "import matplotlib.pyplot as plt\n",
    "import scipy.sparse as sp\n",
    "\n",
    "from angler import Simulation\n",
    "from angler.derivatives import unpack_derivs\n",
    "\n",
    "from datasets.generators1d import * \n",
    "from datasets.generators import Cavity2D\n",
    "from datasets.settings import eps_sio2, OMEGA, MU0, EPSILON0, SCALE, C, L0, PIXEL_SIZE\n",
    "\n",
    "np.set_printoptions(precision=3)"
   ]
  },
  {
   "cell_type": "code",
   "execution_count": 2,
   "metadata": {},
   "outputs": [],
   "source": [
    "DEVICE_LENGTH = 32\n",
    "CAVITY_BUFFER = 4\n",
    "BUFFER_PERMITTIVITY = -1e20\n",
    "NPML = 0\n",
    "DL = 0.05\n",
    "MODE = \"Ez\""
   ]
  },
  {
   "cell_type": "code",
   "execution_count": 3,
   "metadata": {},
   "outputs": [],
   "source": [
    "epsilons = np.ones((DEVICE_LENGTH, DEVICE_LENGTH))\n",
    "epsilons[4:20, 4:20] = 2.5\n",
    "\n",
    "perms, src_x, src_y, Hx, Hy, Ez = Cavity2D(device_length=DEVICE_LENGTH, cavity_buffer=CAVITY_BUFFER).solve(epsilons)"
   ]
  },
  {
   "cell_type": "code",
   "execution_count": 4,
   "metadata": {},
   "outputs": [
    {
     "data": {
      "image/png": "[encoded data removed]",
      "text/plain": [
       "<Figure size 432x288 with 1 Axes>"
      ]
     },
     "metadata": {
      "needs_background": "light"
     },
     "output_type": "display_data"
    }
   ],
   "source": [
    "plt.imshow(np.real(Ez))\n",
    "plt.show()"
   ]
  },
  {
   "cell_type": "code",
   "execution_count": 13,
   "metadata": {},
   "outputs": [
    {
     "data": {
      "image/png": "[encoded data removed]",
      "text/plain": [
       "<Figure size 432x288 with 1 Axes>"
      ]
     },
     "metadata": {
      "needs_background": "light"
     },
     "output_type": "display_data"
    }
   ],
   "source": [
    "curl_op, eps_op = Cavity2D(device_length=DEVICE_LENGTH, cavity_buffer=CAVITY_BUFFER).get_operators()\n",
    "curl_op = np.asarray(np.real(curl_op))\n",
    "\n",
    "E = np.real(Ez).flatten()\n",
    "\n",
    "curl_curl_E = (SCALE / L0**2) * curl_op @ E\n",
    "epsilon_E = (SCALE * -OMEGA**2 * MU0 * EPSILON0) * perms.flatten() * E\n",
    "\n",
    "zero = (curl_curl_E - epsilon_E).reshape(40,40)\n",
    "\n",
    "plt.imshow(zero)\n",
    "# plt.plot(epsilon_E)\n",
    "plt.show()"
   ]
  },
  {
   "cell_type": "code",
   "execution_count": 16,
   "metadata": {},
   "outputs": [
    {
     "data": {
      "text/plain": [
       "-1.5268139561104095"
      ]
     },
     "execution_count": 16,
     "metadata": {},
     "output_type": "execute_result"
    }
   ],
   "source": [
    "zero[20,20]"
   ]
  },
  {
   "cell_type": "code",
   "execution_count": null,
   "metadata": {},
   "outputs": [],
   "source": []
  }
 ],
 "metadata": {
  "kernelspec": {
   "display_name": "Python 3",
   "language": "python",
   "name": "python3"
  },
  "language_info": {
   "codemirror_mode": {
    "name": "ipython",
    "version": 3
   },
   "file_extension": ".py",
   "mimetype": "text/x-python",
   "name": "python",
   "nbconvert_exporter": "python",
   "pygments_lexer": "ipython3",
   "version": "3.7.0"
  }
 },
 "nbformat": 4,
 "nbformat_minor": 2
}
